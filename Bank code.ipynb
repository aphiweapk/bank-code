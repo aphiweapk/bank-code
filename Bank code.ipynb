{
 "cells": [
  {
   "cell_type": "code",
   "execution_count": 1,
   "metadata": {},
   "outputs": [
    {
     "name": "stdout",
     "output_type": "stream",
     "text": [
      "Welcome to the AP Bank. \n",
      "We make deposits and withdraws easy for you. \n",
      "Do not give out your pin to anyone, AP Bank would never ask for your pin.\n",
      "Do you want to withdraw?yes\n",
      "Enter money to withdraw: 500\n",
      "Money withdrawn from the AP Bank is  500.0\n",
      "The money left is 2000.0\n"
     ]
    }
   ],
   "source": [
    "# Bank program\n",
    "#Money withdrawal and deposit code\n",
    "#if you want to check type check\n",
    "# havent passed some test cases\n",
    "#dont withdraw more than 2500\n",
    "\n",
    "\n",
    "print(\"Welcome to the AP Bank. \")\n",
    "print(\"We make deposits and withdraws easy for you. \")\n",
    "print(\"Do not give out your pin to any message you get, AP Bank would never ask for your pin.\")\n",
    "     \n",
    "\n",
    "def withdraw(m):\n",
    "        money_in = 2500\n",
    "        if m >= 0:\n",
    "            money_in = money_in - m\n",
    "        else:\n",
    "            money_in\n",
    "        return money_in\n",
    "\n",
    "def Deposit(d):\n",
    "        money_in = 2500\n",
    "        if d >= 0:\n",
    "            money_in = money_in + d\n",
    "        else:\n",
    "            money_in\n",
    "        return money_in\n",
    "def Balance(B):\n",
    "        money_in = 2500\n",
    "        if B == 0:\n",
    "            money_in = money_in + B\n",
    "        else:\n",
    "            money_in\n",
    "        return money_in\n",
    "    \n",
    "\n",
    "question = input(\"Do you want to withdraw?\") \n",
    "if question == \"yes\":\n",
    "    user_m = float(input('Enter money to withdraw: '))\n",
    "    withdraw(user_m)\n",
    "    result = withdraw(user_m)\n",
    "\n",
    "    print(\"Money withdrawn from the AP Bank is \",user_m ) \n",
    "    print(\"The money left is\", result)\n",
    "            \n",
    "elif question == \"check\":\n",
    "    user_b = float(input('Enter zero: '))\n",
    "    Balance(user_b)\n",
    "    balance = Balance(user_b)\n",
    "    \n",
    "    print(\"The balance in your account is: \", balance)\n",
    " \n",
    "else:\n",
    "    user_d = float(input('Enter money to deposit: '))\n",
    "    Deposit(user_d)\n",
    "\n",
    "    result1 = Deposit(user_d)\n",
    "    \n",
    "    print(\"Money Deposited to the AP Bank is \",user_d ) \n",
    "    print(\"The new balance is \", result1)\n",
    "    \n",
    "\n",
    "    \n"
   ]
  },
  {
   "cell_type": "code",
   "execution_count": null,
   "metadata": {},
   "outputs": [],
   "source": []
  },
  {
   "cell_type": "markdown",
   "metadata": {},
   "source": []
  }
 ],
 "metadata": {
  "kernelspec": {
   "display_name": "Python 3",
   "language": "python",
   "name": "python3"
  },
  "language_info": {
   "codemirror_mode": {
    "name": "ipython",
    "version": 3
   },
   "file_extension": ".py",
   "mimetype": "text/x-python",
   "name": "python",
   "nbconvert_exporter": "python",
   "pygments_lexer": "ipython3",
   "version": "3.7.4"
  }
 },
 "nbformat": 4,
 "nbformat_minor": 2
}
