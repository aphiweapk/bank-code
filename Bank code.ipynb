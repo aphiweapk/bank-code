{
 "cells": [
  {
   "cell_type": "code",
   "execution_count": 1,
   "metadata": {},
   "outputs": [
    {
     "name": "stdout",
     "output_type": "stream",
     "text": [
      "Welcome to the AP Bank. \n",
      "We make depositing and withdrawing easy for you. \n",
      "Do you want to withdraw? yes\n",
      "Enter money to withdraw: 500\n"
     ]
    }
   ],
   "source": [
    "# Bank program\n",
    "#Money withdrawal and deposit code\n",
    "\n",
    "\n",
    "print(\"Welcome to the AP Bank. \")\n",
    "print(\"We make depositing and withdrawing easy for you. \")\n",
    "\n",
    "\n",
    "def Deposit():\n",
    "    money_in = 2500\n",
    "    money_deposited = float(input(\"Enter money to deposit: \"))\n",
    "    if money_deposited >= 0:\n",
    "        money_in += money_deposited\n",
    "    return money_in\n",
    "    \n",
    "def withdraw():\n",
    "    MONEY_IN = 2500\n",
    "    money_withdrawn = float(input(\"Enter money to withdraw: \"))\n",
    "    if money_withdrawn >= 0:\n",
    "        MONEY_IN = MONEY_IN - money_withdrawn\n",
    "    \n",
    "    return MONEY_IN\n",
    "    print(\"withdrawn\")\n",
    "\n",
    "    \n",
    "\n",
    "withdrawal = input(\"Do you want to withdraw? \")\n",
    "if withdrawal == \"yes\":\n",
    "    withdraw()\n",
    "else:\n",
    "    Deposit()\n"
   ]
  },
  {
   "cell_type": "code",
   "execution_count": null,
   "metadata": {},
   "outputs": [],
   "source": []
  }
 ],
 "metadata": {
  "kernelspec": {
   "display_name": "Python 3",
   "language": "python",
   "name": "python3"
  },
  "language_info": {
   "codemirror_mode": {
    "name": "ipython",
    "version": 3
   },
   "file_extension": ".py",
   "mimetype": "text/x-python",
   "name": "python",
   "nbconvert_exporter": "python",
   "pygments_lexer": "ipython3",
   "version": "3.7.4"
  }
 },
 "nbformat": 4,
 "nbformat_minor": 2
}
